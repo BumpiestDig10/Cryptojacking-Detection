{
 "cells": [
  {
   "cell_type": "markdown",
   "id": "4d3c28ae-5f64-46af-96f3-22327f9a8a54",
   "metadata": {},
   "source": [
    "# Importing Libraries"
   ]
  },
  {
   "cell_type": "code",
   "execution_count": 1,
   "id": "22613e69-446d-4df5-8b3c-ffc0b02d4840",
   "metadata": {},
   "outputs": [],
   "source": [
    "import pandas as pd # data processing, read CSV file\n",
    "import matplotlib.pyplot as plt # graph plotting\n",
    "import numpy as np # linear algebra\n",
    "import os # access directory structure\n",
    "import ast # Abstract Syntax Tree\n",
    "import math\n",
    "import pickle\n",
    "\n",
    "# ML Models (SciKit Learn)\n",
    "from sklearn.svm import SVC\n",
    "from sklearn.ensemble import RandomForestClassifier\n",
    "from sklearn.tree import DecisionTreeClassifier\n",
    "from sklearn.neural_network import MLPClassifier\n",
    "\n",
    "# Importing k-fold cross validation\n",
    "from sklearn.model_selection import cross_val_score\n",
    "\n",
    "from sklearn.model_selection import train_test_split, KFold, GridSearchCV\n",
    "from sklearn.metrics import mean_squared_error, r2_score, mean_absolute_error, confusion_matrix, precision_score, recall_score, auc, accuracy_score, f1_score, classification_report"
   ]
  },
  {
   "cell_type": "markdown",
   "id": "9517d9d9-ef0b-4817-aa56-d8c27a137b84",
   "metadata": {},
   "source": [
    "# Dataset"
   ]
  },
  {
   "cell_type": "markdown",
   "id": "5106b325-850d-4d97-aaa0-6340c7b13955",
   "metadata": {},
   "source": [
    "## Reading"
   ]
  },
  {
   "cell_type": "code",
   "execution_count": 3,
   "id": "9dc8632a-8ee2-4c2c-be9d-8613617ee7fe",
   "metadata": {},
   "outputs": [],
   "source": [
    "df = pd.read_csv('dataset.csv')"
   ]
  },
  {
   "cell_type": "markdown",
   "id": "c27378a5-5afe-4f03-b590-cc48ac720f76",
   "metadata": {},
   "source": [
    "## Initial Preprocessing"
   ]
  },
  {
   "cell_type": "code",
   "execution_count": 5,
   "id": "90a75146-da14-47e3-8f69-2224b935f51a",
   "metadata": {},
   "outputs": [
    {
     "data": {
      "text/html": [
       "<div>\n",
       "<style scoped>\n",
       "    .dataframe tbody tr th:only-of-type {\n",
       "        vertical-align: middle;\n",
       "    }\n",
       "\n",
       "    .dataframe tbody tr th {\n",
       "        vertical-align: top;\n",
       "    }\n",
       "\n",
       "    .dataframe thead th {\n",
       "        text-align: right;\n",
       "    }\n",
       "</style>\n",
       "<table border=\"1\" class=\"dataframe\">\n",
       "  <thead>\n",
       "    <tr style=\"text-align: right;\">\n",
       "      <th></th>\n",
       "      <th>cachestat_HITS</th>\n",
       "      <th>cachestat_BUFFERS(MB)</th>\n",
       "      <th>cachestat_CACHED(MB)</th>\n",
       "      <th>pidpersec_PID/s</th>\n",
       "      <th>biopattern_RND(%)</th>\n",
       "      <th>biopattern_SEQ(%)</th>\n",
       "      <th>biopattern_COUNT</th>\n",
       "      <th>biopattern_KBYTES</th>\n",
       "      <th>cpuunclaimed_CPU(%)</th>\n",
       "      <th>ramusage_USED(%)</th>\n",
       "      <th>tcpstates_NEWSTATE</th>\n",
       "      <th>miner</th>\n",
       "    </tr>\n",
       "  </thead>\n",
       "  <tbody>\n",
       "    <tr>\n",
       "      <th>0</th>\n",
       "      <td>-0.131878</td>\n",
       "      <td>-1.479101</td>\n",
       "      <td>-1.706736</td>\n",
       "      <td>-0.114224</td>\n",
       "      <td>0.0</td>\n",
       "      <td>0.0</td>\n",
       "      <td>-0.065106</td>\n",
       "      <td>-0.054470</td>\n",
       "      <td>0.0</td>\n",
       "      <td>19.8</td>\n",
       "      <td>1</td>\n",
       "      <td>0</td>\n",
       "    </tr>\n",
       "    <tr>\n",
       "      <th>1</th>\n",
       "      <td>-0.131878</td>\n",
       "      <td>-1.479101</td>\n",
       "      <td>-1.706736</td>\n",
       "      <td>-0.114224</td>\n",
       "      <td>0.0</td>\n",
       "      <td>0.0</td>\n",
       "      <td>-0.065106</td>\n",
       "      <td>-0.054470</td>\n",
       "      <td>0.0</td>\n",
       "      <td>25.1</td>\n",
       "      <td>1</td>\n",
       "      <td>0</td>\n",
       "    </tr>\n",
       "    <tr>\n",
       "      <th>2</th>\n",
       "      <td>-0.131878</td>\n",
       "      <td>-1.479101</td>\n",
       "      <td>-1.706736</td>\n",
       "      <td>-0.114224</td>\n",
       "      <td>98.0</td>\n",
       "      <td>2.0</td>\n",
       "      <td>0.167004</td>\n",
       "      <td>-0.015849</td>\n",
       "      <td>0.0</td>\n",
       "      <td>28.0</td>\n",
       "      <td>1</td>\n",
       "      <td>0</td>\n",
       "    </tr>\n",
       "    <tr>\n",
       "      <th>3</th>\n",
       "      <td>0.580189</td>\n",
       "      <td>-0.137269</td>\n",
       "      <td>0.865642</td>\n",
       "      <td>0.002309</td>\n",
       "      <td>95.0</td>\n",
       "      <td>5.0</td>\n",
       "      <td>-0.018834</td>\n",
       "      <td>-0.043874</td>\n",
       "      <td>0.0</td>\n",
       "      <td>29.7</td>\n",
       "      <td>1</td>\n",
       "      <td>0</td>\n",
       "    </tr>\n",
       "    <tr>\n",
       "      <th>4</th>\n",
       "      <td>0.567372</td>\n",
       "      <td>-0.137269</td>\n",
       "      <td>0.866377</td>\n",
       "      <td>0.002309</td>\n",
       "      <td>42.0</td>\n",
       "      <td>58.0</td>\n",
       "      <td>-0.056150</td>\n",
       "      <td>-0.048415</td>\n",
       "      <td>0.0</td>\n",
       "      <td>31.7</td>\n",
       "      <td>1</td>\n",
       "      <td>0</td>\n",
       "    </tr>\n",
       "  </tbody>\n",
       "</table>\n",
       "</div>"
      ],
      "text/plain": [
       "   cachestat_HITS  cachestat_BUFFERS(MB)  cachestat_CACHED(MB)  \\\n",
       "0       -0.131878              -1.479101             -1.706736   \n",
       "1       -0.131878              -1.479101             -1.706736   \n",
       "2       -0.131878              -1.479101             -1.706736   \n",
       "3        0.580189              -0.137269              0.865642   \n",
       "4        0.567372              -0.137269              0.866377   \n",
       "\n",
       "   pidpersec_PID/s  biopattern_RND(%)  biopattern_SEQ(%)  biopattern_COUNT  \\\n",
       "0        -0.114224                0.0                0.0         -0.065106   \n",
       "1        -0.114224                0.0                0.0         -0.065106   \n",
       "2        -0.114224               98.0                2.0          0.167004   \n",
       "3         0.002309               95.0                5.0         -0.018834   \n",
       "4         0.002309               42.0               58.0         -0.056150   \n",
       "\n",
       "   biopattern_KBYTES  cpuunclaimed_CPU(%)  ramusage_USED(%)  \\\n",
       "0          -0.054470                  0.0              19.8   \n",
       "1          -0.054470                  0.0              25.1   \n",
       "2          -0.015849                  0.0              28.0   \n",
       "3          -0.043874                  0.0              29.7   \n",
       "4          -0.048415                  0.0              31.7   \n",
       "\n",
       "   tcpstates_NEWSTATE  miner  \n",
       "0                   1      0  \n",
       "1                   1      0  \n",
       "2                   1      0  \n",
       "3                   1      0  \n",
       "4                   1      0  "
      ]
     },
     "execution_count": 5,
     "metadata": {},
     "output_type": "execute_result"
    }
   ],
   "source": [
    "df.head()"
   ]
  },
  {
   "cell_type": "code",
   "execution_count": null,
   "id": "6a5f0299-7100-4fd1-9ca8-4a087aaa59c9",
   "metadata": {},
   "outputs": [],
   "source": [
    "df.drop('bindsnoop_PROT_TCP', axis = 1, inplace = True)\n",
    "df.drop('bindsnoop_PROT_UDP', axis = 1, inplace = True)"
   ]
  },
  {
   "cell_type": "markdown",
   "id": "be138e7a-8e88-4e8a-8cfb-042da1364ccc",
   "metadata": {},
   "source": [
    "### Splitting Train and Test Data"
   ]
  },
  {
   "cell_type": "code",
   "execution_count": null,
   "id": "3704ece9-05d6-4ae5-961b-a7fb8d0afbe1",
   "metadata": {},
   "outputs": [],
   "source": [
    "# Defining Input and Output of the Model using .iloc[rows, columns] function from pandas library.\n",
    "x = df.iloc[ : , 0:11] # [ : , 0:6] ==> [all rows, column index 0 to 5] (excludes the '6th' index)\n",
    "y = df.iloc[ : , 11] # ... ==> [all rows, column index 6]; [ : , 6:7] will also perform the same function"
   ]
  },
  {
   "cell_type": "code",
   "execution_count": null,
   "id": "b2b8b811-c5d8-47f2-b3dd-7d4e6280ea6d",
   "metadata": {},
   "outputs": [],
   "source": [
    "x.head()"
   ]
  },
  {
   "cell_type": "code",
   "execution_count": null,
   "id": "afbef111-dc33-417e-adf7-2abfe12809e8",
   "metadata": {},
   "outputs": [],
   "source": [
    "y.head()"
   ]
  },
  {
   "cell_type": "code",
   "execution_count": null,
   "id": "4dd61742-2faa-4812-b5d2-37a1751c6a4b",
   "metadata": {},
   "outputs": [],
   "source": [
    "# Splitting Train and Test Data\n",
    "Xtrain, Xtest, Ytrain, Ytest = train_test_split(x, y, test_size = 0.2, random_state = 1)\n",
    "# Test Size = 20% of Dataset,\n",
    "# Random State --> corresponds a random data split with the number, each time this random state no. (1) is used, same data split will be used.\n",
    "# Using random_state is optional but helps in understanding/explaining what (random) data set was used and enables recreatability of same results."
   ]
  },
  {
   "cell_type": "markdown",
   "id": "daac3f6c-5ab3-46cf-8fd6-1366cb744661",
   "metadata": {},
   "source": [
    "## Initialising and Training the Models"
   ]
  },
  {
   "cell_type": "code",
   "execution_count": null,
   "id": "837e3700-53a3-4551-99e2-cbbadc1f40c2",
   "metadata": {},
   "outputs": [],
   "source": [
    "# Instantiating the Models With Default Parameters\n",
    "\n",
    "# modelLR = LogisticRegression()\n",
    "modelNN = MLPClassifier()\n",
    "modelRF = RandomForestClassifier()\n",
    "modelDT = DecisionTreeClassifier()\n",
    "modelSV = SVC()"
   ]
  },
  {
   "cell_type": "code",
   "execution_count": null,
   "id": "81011f50-b7d2-4455-8bfc-f1250336d555",
   "metadata": {},
   "outputs": [],
   "source": [
    "# Training Models\n",
    "# modelLR.fit(Xtrain, Ytrain)\n",
    "modelNN.fit(Xtrain, Ytrain)\n",
    "modelRF.fit(Xtrain, Ytrain)\n",
    "modelDT.fit(Xtrain, Ytrain)\n",
    "modelSV.fit(Xtrain, Ytrain)\n",
    "# This will take time depending on the size of the data set.\n",
    "\n",
    "# Printing rsquared-score --> Measures the error in predictions.\n",
    "# NOTE: To improve predictions --> 1. Improve data set, 2. Play around with hyperparameters of each model.\n",
    "print(\"R^2 Scores:\")\n",
    "# print(\"Linear Regression: \", modelLR.score(Xtest, Ytest))\n",
    "print(\"MLP Regressor (Neural Network): \", modelNN.score(Xtest, Ytest))\n",
    "print(\"Random Forest: \", modelRF.score(Xtest, Ytest))\n",
    "print(\"Decision Tree: \", modelDT.score(Xtest, Ytest))\n",
    "print(\"Support Vector Machine: \", modelSV.score(Xtest, Ytest))"
   ]
  },
  {
   "cell_type": "markdown",
   "id": "5f294cef-7173-4d05-a05c-e6ffe28768e1",
   "metadata": {},
   "source": [
    "### Testing Initial Model"
   ]
  },
  {
   "cell_type": "code",
   "execution_count": null,
   "id": "187de33a-16e4-4432-a52c-8f005269b93a",
   "metadata": {},
   "outputs": [],
   "source": [
    "# Testing Models\n",
    "# This time model will not see the Y data, Ytest will be used to compare the results.\n",
    "RFpred = modelRF.predict(Xtest)\n",
    "DTpred = modelDT.predict(Xtest)\n",
    "SVpred = modelSV.predict(Xtest)\n",
    "NNpred = modelNN.predict(Xtest)\n",
    "\n",
    "print(\"Random Forest Results:\")\n",
    "print(\"Mean Squared Error: \", mean_squared_error(RFpred, Ytest))\n",
    "print(\"Mean Absolute Error: \", mean_absolute_error(RFpred, Ytest))\n",
    "print(\"Confusion Matrix:\\n\", confusion_matrix(RFpred, Ytest))\n",
    "print(\"Random Forest Classification Report:\\n\", classification_report(RFpred, Ytest))\n",
    "\n",
    "print(\"\")\n",
    "\n",
    "print(\"Decision Tree Results:\")\n",
    "print(\"Mean Squared Error: \", mean_squared_error(DTpred, Ytest))\n",
    "print(\"Mean Absolute Error: \", mean_absolute_error(DTpred, Ytest))\n",
    "print(\"Confusion Matrix:\\n\", confusion_matrix(DTpred, Ytest))\n",
    "print(\"Decision Tree Classification Report:\\n\", classification_report(DTpred, Ytest))\n",
    "\n",
    "print(\"\")\n",
    "\n",
    "print(\"Support Vector Machine Results:\")\n",
    "print(\"Mean Squared Error: \", mean_squared_error(SVpred, Ytest))\n",
    "print(\"Mean Absolute Error: \", mean_absolute_error(SVpred, Ytest))\n",
    "print(\"Confusion Matrix:\\n\", confusion_matrix(SVpred, Ytest))\n",
    "print(\"Decision Tree Classification Report:\\n\", classification_report(SVpred, Ytest))\n",
    "\n",
    "print(\"\")\n",
    "\n",
    "print(\"Multi-Layer Perceptron Results:\")\n",
    "print(\"Mean Squared Error: \", mean_squared_error(SVpred, Ytest))\n",
    "print(\"Mean Absolute Error: \", mean_absolute_error(SVpred, Ytest))\n",
    "print(\"Confusion Matrix:\\n\", confusion_matrix(SVpred, Ytest))\n",
    "print(\"Decision Tree Classification Report:\\n\", classification_report(SVpred, Ytest))"
   ]
  },
  {
   "cell_type": "markdown",
   "id": "049a8fa6-9aed-4548-81da-a1147e6f3453",
   "metadata": {},
   "source": [
    "### Feature Importance"
   ]
  },
  {
   "cell_type": "code",
   "execution_count": null,
   "id": "387977ef-921f-4a13-8d70-ee2440428bd3",
   "metadata": {},
   "outputs": [],
   "source": [
    "print(\"RF: \", modelRF.feature_importances_)\n",
    "print(\"DT: \", modelDT.feature_importances_)\n",
    "# print(\"SVM: \", modelSV.feature_importances_)\n",
    "# print(\"NN:\", modelNN.feature_importances_)"
   ]
  },
  {
   "cell_type": "markdown",
   "id": "3fad5094-157d-4a2c-b986-78083684be3a",
   "metadata": {},
   "source": [
    "## Further Processing Data"
   ]
  },
  {
   "cell_type": "code",
   "execution_count": 7,
   "id": "a2b15d72-3bdb-4265-b95b-25bc8377eca1",
   "metadata": {},
   "outputs": [],
   "source": [
    "df.drop('pidpersec_PID/s', axis = 1, inplace = True)\n",
    "df.drop('biopattern_RND(%)', axis = 1, inplace = True)\n",
    "df.drop('biopattern_SEQ(%)', axis = 1, inplace = True)\n",
    "df.drop('cachestat_HITS', axis = 1, inplace = True)\n",
    "df.drop('biopattern_COUNT', axis = 1, inplace = True)\n",
    "df.drop('tcpstates_NEWSTATE', axis = 1, inplace = True)\n",
    "df.drop('biopattern_KBYTES', axis = 1, inplace = True)"
   ]
  },
  {
   "cell_type": "code",
   "execution_count": 9,
   "id": "176551bd-faf9-4a51-b75b-7fcf690e1d47",
   "metadata": {},
   "outputs": [
    {
     "data": {
      "text/html": [
       "<div>\n",
       "<style scoped>\n",
       "    .dataframe tbody tr th:only-of-type {\n",
       "        vertical-align: middle;\n",
       "    }\n",
       "\n",
       "    .dataframe tbody tr th {\n",
       "        vertical-align: top;\n",
       "    }\n",
       "\n",
       "    .dataframe thead th {\n",
       "        text-align: right;\n",
       "    }\n",
       "</style>\n",
       "<table border=\"1\" class=\"dataframe\">\n",
       "  <thead>\n",
       "    <tr style=\"text-align: right;\">\n",
       "      <th></th>\n",
       "      <th>cachestat_BUFFERS(MB)</th>\n",
       "      <th>cachestat_CACHED(MB)</th>\n",
       "      <th>cpuunclaimed_CPU(%)</th>\n",
       "      <th>ramusage_USED(%)</th>\n",
       "      <th>miner</th>\n",
       "    </tr>\n",
       "  </thead>\n",
       "  <tbody>\n",
       "    <tr>\n",
       "      <th>0</th>\n",
       "      <td>-1.479101</td>\n",
       "      <td>-1.706736</td>\n",
       "      <td>0.0</td>\n",
       "      <td>19.8</td>\n",
       "      <td>0</td>\n",
       "    </tr>\n",
       "    <tr>\n",
       "      <th>1</th>\n",
       "      <td>-1.479101</td>\n",
       "      <td>-1.706736</td>\n",
       "      <td>0.0</td>\n",
       "      <td>25.1</td>\n",
       "      <td>0</td>\n",
       "    </tr>\n",
       "    <tr>\n",
       "      <th>2</th>\n",
       "      <td>-1.479101</td>\n",
       "      <td>-1.706736</td>\n",
       "      <td>0.0</td>\n",
       "      <td>28.0</td>\n",
       "      <td>0</td>\n",
       "    </tr>\n",
       "    <tr>\n",
       "      <th>3</th>\n",
       "      <td>-0.137269</td>\n",
       "      <td>0.865642</td>\n",
       "      <td>0.0</td>\n",
       "      <td>29.7</td>\n",
       "      <td>0</td>\n",
       "    </tr>\n",
       "    <tr>\n",
       "      <th>4</th>\n",
       "      <td>-0.137269</td>\n",
       "      <td>0.866377</td>\n",
       "      <td>0.0</td>\n",
       "      <td>31.7</td>\n",
       "      <td>0</td>\n",
       "    </tr>\n",
       "  </tbody>\n",
       "</table>\n",
       "</div>"
      ],
      "text/plain": [
       "   cachestat_BUFFERS(MB)  cachestat_CACHED(MB)  cpuunclaimed_CPU(%)  \\\n",
       "0              -1.479101             -1.706736                  0.0   \n",
       "1              -1.479101             -1.706736                  0.0   \n",
       "2              -1.479101             -1.706736                  0.0   \n",
       "3              -0.137269              0.865642                  0.0   \n",
       "4              -0.137269              0.866377                  0.0   \n",
       "\n",
       "   ramusage_USED(%)  miner  \n",
       "0              19.8      0  \n",
       "1              25.1      0  \n",
       "2              28.0      0  \n",
       "3              29.7      0  \n",
       "4              31.7      0  "
      ]
     },
     "execution_count": 9,
     "metadata": {},
     "output_type": "execute_result"
    }
   ],
   "source": [
    "df.head()"
   ]
  },
  {
   "cell_type": "markdown",
   "id": "063c2495-b55b-4e61-82a5-09c87d63aca3",
   "metadata": {},
   "source": [
    "## Splitting for training and testing, training, and prediction"
   ]
  },
  {
   "cell_type": "code",
   "execution_count": 15,
   "id": "cd5396d3-99ac-427e-b1e0-2b8f6315f2bb",
   "metadata": {},
   "outputs": [],
   "source": [
    "xnew = df.iloc[ : , 0:4] # [ : , 0:6] ==> [all rows, column index 0 to 5] (excludes the '6th' index)\n",
    "ynew = df.iloc[ : , 4] # ... ==> [all rows, column index 6]; [ : , 6:7] will also perform the same function\n",
    "\n",
    "Xtrainnew, Xtestnew, Ytrainnew, Ytestnew = train_test_split(xnew, ynew, test_size = 0.2, random_state = 1)\n",
    "\n",
    "modelRFnew = RandomForestClassifier()\n",
    "modelDTnew = DecisionTreeClassifier()\n",
    "\n",
    "modelRFnew.fit(Xtrainnew, Ytrainnew)\n",
    "modelDTnew.fit(Xtrainnew, Ytrainnew)\n",
    "\n",
    "RFprednew = modelRFnew.predict(Xtestnew)\n",
    "DTprednew = modelDTnew.predict(Xtestnew)"
   ]
  },
  {
   "cell_type": "code",
   "execution_count": 17,
   "id": "9f44ea46-895d-49a6-8f15-e096d67b895d",
   "metadata": {},
   "outputs": [
    {
     "name": "stdout",
     "output_type": "stream",
     "text": [
      "Random Forest Results:\n",
      "Mean Squared Error:  0.005697081982399259\n",
      "Mean Absolute Error:  0.005697081982399259\n",
      "Confusion Matrix:\n",
      " [[43908   154]\n",
      " [  215 20493]]\n",
      "Random Forest Classification Report:\n",
      "               precision    recall  f1-score   support\n",
      "\n",
      "           0       1.00      1.00      1.00     44062\n",
      "           1       0.99      0.99      0.99     20708\n",
      "\n",
      "    accuracy                           0.99     64770\n",
      "   macro avg       0.99      0.99      0.99     64770\n",
      "weighted avg       0.99      0.99      0.99     64770\n",
      "\n",
      "Feature Importance:  [0.32059159 0.38133617 0.11655016 0.18152207]\n",
      "\n",
      "Decision Tree Results:\n",
      "Mean Squared Error:  0.008059286706808708\n",
      "Mean Absolute Error:  0.008059286706808708\n",
      "Confusion Matrix:\n",
      " [[43864   263]\n",
      " [  259 20384]]\n",
      "Decision Tree Classification Report:\n",
      "               precision    recall  f1-score   support\n",
      "\n",
      "           0       0.99      0.99      0.99     44127\n",
      "           1       0.99      0.99      0.99     20643\n",
      "\n",
      "    accuracy                           0.99     64770\n",
      "   macro avg       0.99      0.99      0.99     64770\n",
      "weighted avg       0.99      0.99      0.99     64770\n",
      "\n",
      "Feature Importance:  [0.27122768 0.45031529 0.13613938 0.14231766]\n"
     ]
    }
   ],
   "source": [
    "print(\"Random Forest Results:\")\n",
    "print(\"Mean Squared Error: \", mean_squared_error(RFprednew, Ytestnew))\n",
    "print(\"Mean Absolute Error: \", mean_absolute_error(RFprednew, Ytestnew))\n",
    "print(\"Confusion Matrix:\\n\", confusion_matrix(RFprednew, Ytestnew))\n",
    "print(\"Random Forest Classification Report:\\n\", classification_report(RFprednew, Ytestnew))\n",
    "print(\"Feature Importance: \", modelRFnew.feature_importances_)\n",
    "print(\"\")\n",
    "\n",
    "print(\"Decision Tree Results:\")\n",
    "print(\"Mean Squared Error: \", mean_squared_error(DTprednew, Ytestnew))\n",
    "print(\"Mean Absolute Error: \", mean_absolute_error(DTprednew, Ytestnew))\n",
    "print(\"Confusion Matrix:\\n\", confusion_matrix(DTprednew, Ytestnew))\n",
    "print(\"Decision Tree Classification Report:\\n\", classification_report(DTprednew, Ytestnew))\n",
    "print(\"Feature Importance: \", modelDTnew.feature_importances_)"
   ]
  },
  {
   "cell_type": "markdown",
   "id": "f4360106-ff8a-4b8a-a45e-4594d5708f87",
   "metadata": {},
   "source": [
    "## Defining and Running Parameter Grids"
   ]
  },
  {
   "cell_type": "code",
   "execution_count": 19,
   "id": "1e1aa822-077e-466a-9c22-952cad7e03e5",
   "metadata": {},
   "outputs": [
    {
     "name": "stdout",
     "output_type": "stream",
     "text": [
      "Best Parameters for Decision Tree: {'criterion': 'entropy', 'max_depth': None, 'min_samples_leaf': 1, 'min_samples_split': 2}\n",
      "Best Cross-Validation Score for Decision Tree: 0.99\n"
     ]
    },
    {
     "name": "stderr",
     "output_type": "stream",
     "text": [
      "C:\\ProgramData\\anaconda3\\Lib\\site-packages\\numpy\\ma\\core.py:2820: RuntimeWarning: invalid value encountered in cast\n",
      "  _data = np.array(data, dtype=dtype, copy=copy,\n"
     ]
    },
    {
     "name": "stdout",
     "output_type": "stream",
     "text": [
      "Best Parameters for Random Forest: {'criterion': 'entropy', 'max_depth': None, 'min_samples_leaf': 1, 'min_samples_split': 2}\n",
      "Best Cross-Validation Score for Random Forest: 0.99\n"
     ]
    }
   ],
   "source": [
    "param_grid = {\n",
    "    'max_depth': [None, 3, 9, 15, 18, 25],\n",
    "    'min_samples_split': [2, 5, 7, 10],\n",
    "    'min_samples_leaf': [1, 2, 4],\n",
    "    'criterion': ['gini', 'entropy']\n",
    "}\n",
    "\n",
    "# Initialize the model\n",
    "dtc = DecisionTreeClassifier(random_state=1)\n",
    "\n",
    "# Perform GridSearchCV\n",
    "grid_search = GridSearchCV(dtc, param_grid, cv=5, scoring='accuracy')\n",
    "grid_search.fit(Xtrainnew, Ytrainnew)\n",
    "\n",
    "# Display the best parameters and corresponding score\n",
    "print(f\"Best Parameters for Decision Tree: {grid_search.best_params_}\")\n",
    "print(f\"Best Cross-Validation Score for Decision Tree: {grid_search.best_score_:.2f}\")\n",
    "\n",
    "# Get the best model\n",
    "best_dtc = grid_search.best_estimator_ #Initialising a new model with the best determined hyperparameters.\n",
    "\n",
    "param_grid_rf = {\n",
    "    'n_estimators': [50, 100, 200, 500],\n",
    "    'max_depth': [None, 10, 20, 30, 50],\n",
    "    'min_samples_split': [2, 5, 10],\n",
    "    'min_samples_leaf': [1, 2, 4],\n",
    "    'max_features': [None],\n",
    "    'criterion': ['gini', 'entropy']  # Optional\n",
    "}\n",
    "\n",
    "rfc = RandomForestClassifier(random_state = 1)\n",
    "\n",
    "grid_search_rf = GridSearchCV(rfc, param_grid, cv=5, scoring='accuracy')\n",
    "grid_search_rf.fit(Xtrainnew, Ytrainnew)\n",
    "\n",
    "# Display the best parameters and corresponding score\n",
    "print(f\"Best Parameters for Random Forest: {grid_search_rf.best_params_}\")\n",
    "print(f\"Best Cross-Validation Score for Random Forest: {grid_search_rf.best_score_:.2f}\")\n",
    "\n",
    "# Get the best model\n",
    "best_rfc = grid_search_rf.best_estimator_ #Initialising a new model with the best determined hyperparameters."
   ]
  },
  {
   "cell_type": "markdown",
   "id": "23666df8-fd34-4253-805d-b54d1acd73c1",
   "metadata": {},
   "source": [
    "# Final Test"
   ]
  },
  {
   "cell_type": "code",
   "execution_count": 22,
   "id": "e334c52f-1652-4392-97a6-1fe6984def92",
   "metadata": {},
   "outputs": [],
   "source": [
    "Xtrainnew, Xtestnew, Ytrainnew, Ytestnew = train_test_split(xnew, ynew, test_size = 0.99, random_state = 2)\n",
    "\n",
    "DTCpred = best_dtc.predict(Xtestnew)\n",
    "RFCpred = best_rfc.predict(Xtestnew)"
   ]
  },
  {
   "cell_type": "code",
   "execution_count": 26,
   "id": "32d6abfa-a090-4d53-aa8f-3c10d3ed00a5",
   "metadata": {},
   "outputs": [
    {
     "name": "stdout",
     "output_type": "stream",
     "text": [
      "Random Forest Results:\n",
      "Mean Squared Error:  0.001072961373390558\n",
      "Mean Absolute Error:  0.001072961373390558\n",
      "Confusion Matrix:\n",
      " [[218021    152]\n",
      " [   192 102243]]\n",
      "Random Forest Classification Report:\n",
      "               precision    recall  f1-score   support\n",
      "\n",
      "           0       1.00      1.00      1.00    218173\n",
      "           1       1.00      1.00      1.00    102435\n",
      "\n",
      "    accuracy                           1.00    320608\n",
      "   macro avg       1.00      1.00      1.00    320608\n",
      "weighted avg       1.00      1.00      1.00    320608\n",
      "\n",
      "\n",
      "Decision Tree Results:\n",
      "Mean Squared Error:  0.001621918355125262\n",
      "Mean Absolute Error:  0.001621918355125262\n",
      "Confusion Matrix:\n",
      " [[217948    255]\n",
      " [   265 102140]]\n",
      "Decision Tree Classification Report:\n",
      "               precision    recall  f1-score   support\n",
      "\n",
      "           0       1.00      1.00      1.00    218203\n",
      "           1       1.00      1.00      1.00    102405\n",
      "\n",
      "    accuracy                           1.00    320608\n",
      "   macro avg       1.00      1.00      1.00    320608\n",
      "weighted avg       1.00      1.00      1.00    320608\n",
      "\n"
     ]
    }
   ],
   "source": [
    "print(\"Random Forest Results:\")\n",
    "print(\"Mean Squared Error: \", mean_squared_error(RFCpred, Ytestnew))\n",
    "print(\"Mean Absolute Error: \", mean_absolute_error(RFCpred, Ytestnew))\n",
    "print(\"Confusion Matrix:\\n\", confusion_matrix(RFCpred, Ytestnew))\n",
    "print(\"Random Forest Classification Report:\\n\", classification_report(RFCpred, Ytestnew))\n",
    "print(\"\")\n",
    "\n",
    "print(\"Decision Tree Results:\")\n",
    "print(\"Mean Squared Error: \", mean_squared_error(DTCpred, Ytestnew))\n",
    "print(\"Mean Absolute Error: \", mean_absolute_error(DTCpred, Ytestnew))\n",
    "print(\"Confusion Matrix:\\n\", confusion_matrix(DTCpred, Ytestnew))\n",
    "print(\"Decision Tree Classification Report:\\n\", classification_report(DTCpred, Ytestnew))"
   ]
  },
  {
   "cell_type": "code",
   "execution_count": null,
   "id": "59c388f7-f2a0-406d-84c0-4e4da02533e9",
   "metadata": {},
   "outputs": [],
   "source": []
  }
 ],
 "metadata": {
  "kernelspec": {
   "display_name": "Python 3 (ipykernel)",
   "language": "python",
   "name": "python3"
  },
  "language_info": {
   "codemirror_mode": {
    "name": "ipython",
    "version": 3
   },
   "file_extension": ".py",
   "mimetype": "text/x-python",
   "name": "python",
   "nbconvert_exporter": "python",
   "pygments_lexer": "ipython3",
   "version": "3.12.7"
  }
 },
 "nbformat": 4,
 "nbformat_minor": 5
}
